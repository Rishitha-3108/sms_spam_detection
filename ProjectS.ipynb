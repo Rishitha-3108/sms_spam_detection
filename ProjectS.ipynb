{
  "nbformat": 4,
  "nbformat_minor": 0,
  "metadata": {
    "colab": {
      "provenance": []
    },
    "kernelspec": {
      "name": "python3",
      "display_name": "Python 3"
    },
    "language_info": {
      "name": "python"
    }
  },
  "cells": [
    {
      "cell_type": "code",
      "execution_count": 1,
      "metadata": {
        "colab": {
          "base_uri": "https://localhost:8080/"
        },
        "id": "0chyz_aU-G0W",
        "outputId": "4b6a2648-32b3-4e9d-800a-78cbe6d1d5ee"
      },
      "outputs": [
        {
          "output_type": "stream",
          "name": "stdout",
          "text": [
            "Mounted at /content/drive\n"
          ]
        }
      ],
      "source": [
        "from google.colab import drive\n",
        "drive.mount('/content/drive')"
      ]
    },
    {
      "cell_type": "code",
      "source": [
        "import numpy as np\n",
        "import pandas as pd\n",
        "import seaborn as sns\n",
        "import matplotlib.pyplot as plt\n",
        "import re\n",
        "import nltk\n",
        "from nltk.corpus import stopwords\n",
        "nltk.download('stopwords')\n",
        "from nltk.tokenize import word_tokenize"
      ],
      "metadata": {
        "colab": {
          "base_uri": "https://localhost:8080/"
        },
        "id": "chYSGy23kTli",
        "outputId": "46efe2bb-f3c4-4039-c6f2-98eb9aa2533b"
      },
      "execution_count": 2,
      "outputs": [
        {
          "output_type": "stream",
          "name": "stderr",
          "text": [
            "[nltk_data] Downloading package stopwords to /root/nltk_data...\n",
            "[nltk_data]   Unzipping corpora/stopwords.zip.\n"
          ]
        }
      ]
    },
    {
      "cell_type": "code",
      "source": [
        "df = pd.read_csv('/content/drive/MyDrive/SMSSpamCollection.txt',sep='\\t',encoding = \"ISO-8859-1\", header=None)\n",
        "print('Shape of File:- ',df.shape)\n",
        "df.columns = [\"label\", \"msg\"]\n",
        "df.head()"
      ],
      "metadata": {
        "colab": {
          "base_uri": "https://localhost:8080/",
          "height": 223
        },
        "id": "LJZFWgE4-7gH",
        "outputId": "6043acbe-cb08-43b9-e5e3-964b25e08b26"
      },
      "execution_count": 3,
      "outputs": [
        {
          "output_type": "stream",
          "name": "stdout",
          "text": [
            "Shape of File:-  (5572, 2)\n"
          ]
        },
        {
          "output_type": "execute_result",
          "data": {
            "text/plain": [
              "  label                                                msg\n",
              "0   ham  Go until jurong point, crazy.. Available only ...\n",
              "1   ham                      Ok lar... Joking wif u oni...\n",
              "2  spam  Free entry in 2 a wkly comp to win FA Cup fina...\n",
              "3   ham  U dun say so early hor... U c already then say...\n",
              "4   ham  Nah I don't think he goes to usf, he lives aro..."
            ],
            "text/html": [
              "\n",
              "  <div id=\"df-30387763-a74c-4a8c-a4a8-51acd51f521f\" class=\"colab-df-container\">\n",
              "    <div>\n",
              "<style scoped>\n",
              "    .dataframe tbody tr th:only-of-type {\n",
              "        vertical-align: middle;\n",
              "    }\n",
              "\n",
              "    .dataframe tbody tr th {\n",
              "        vertical-align: top;\n",
              "    }\n",
              "\n",
              "    .dataframe thead th {\n",
              "        text-align: right;\n",
              "    }\n",
              "</style>\n",
              "<table border=\"1\" class=\"dataframe\">\n",
              "  <thead>\n",
              "    <tr style=\"text-align: right;\">\n",
              "      <th></th>\n",
              "      <th>label</th>\n",
              "      <th>msg</th>\n",
              "    </tr>\n",
              "  </thead>\n",
              "  <tbody>\n",
              "    <tr>\n",
              "      <th>0</th>\n",
              "      <td>ham</td>\n",
              "      <td>Go until jurong point, crazy.. Available only ...</td>\n",
              "    </tr>\n",
              "    <tr>\n",
              "      <th>1</th>\n",
              "      <td>ham</td>\n",
              "      <td>Ok lar... Joking wif u oni...</td>\n",
              "    </tr>\n",
              "    <tr>\n",
              "      <th>2</th>\n",
              "      <td>spam</td>\n",
              "      <td>Free entry in 2 a wkly comp to win FA Cup fina...</td>\n",
              "    </tr>\n",
              "    <tr>\n",
              "      <th>3</th>\n",
              "      <td>ham</td>\n",
              "      <td>U dun say so early hor... U c already then say...</td>\n",
              "    </tr>\n",
              "    <tr>\n",
              "      <th>4</th>\n",
              "      <td>ham</td>\n",
              "      <td>Nah I don't think he goes to usf, he lives aro...</td>\n",
              "    </tr>\n",
              "  </tbody>\n",
              "</table>\n",
              "</div>\n",
              "    <div class=\"colab-df-buttons\">\n",
              "\n",
              "  <div class=\"colab-df-container\">\n",
              "    <button class=\"colab-df-convert\" onclick=\"convertToInteractive('df-30387763-a74c-4a8c-a4a8-51acd51f521f')\"\n",
              "            title=\"Convert this dataframe to an interactive table.\"\n",
              "            style=\"display:none;\">\n",
              "\n",
              "  <svg xmlns=\"http://www.w3.org/2000/svg\" height=\"24px\" viewBox=\"0 -960 960 960\">\n",
              "    <path d=\"M120-120v-720h720v720H120Zm60-500h600v-160H180v160Zm220 220h160v-160H400v160Zm0 220h160v-160H400v160ZM180-400h160v-160H180v160Zm440 0h160v-160H620v160ZM180-180h160v-160H180v160Zm440 0h160v-160H620v160Z\"/>\n",
              "  </svg>\n",
              "    </button>\n",
              "\n",
              "  <style>\n",
              "    .colab-df-container {\n",
              "      display:flex;\n",
              "      gap: 12px;\n",
              "    }\n",
              "\n",
              "    .colab-df-convert {\n",
              "      background-color: #E8F0FE;\n",
              "      border: none;\n",
              "      border-radius: 50%;\n",
              "      cursor: pointer;\n",
              "      display: none;\n",
              "      fill: #1967D2;\n",
              "      height: 32px;\n",
              "      padding: 0 0 0 0;\n",
              "      width: 32px;\n",
              "    }\n",
              "\n",
              "    .colab-df-convert:hover {\n",
              "      background-color: #E2EBFA;\n",
              "      box-shadow: 0px 1px 2px rgba(60, 64, 67, 0.3), 0px 1px 3px 1px rgba(60, 64, 67, 0.15);\n",
              "      fill: #174EA6;\n",
              "    }\n",
              "\n",
              "    .colab-df-buttons div {\n",
              "      margin-bottom: 4px;\n",
              "    }\n",
              "\n",
              "    [theme=dark] .colab-df-convert {\n",
              "      background-color: #3B4455;\n",
              "      fill: #D2E3FC;\n",
              "    }\n",
              "\n",
              "    [theme=dark] .colab-df-convert:hover {\n",
              "      background-color: #434B5C;\n",
              "      box-shadow: 0px 1px 3px 1px rgba(0, 0, 0, 0.15);\n",
              "      filter: drop-shadow(0px 1px 2px rgba(0, 0, 0, 0.3));\n",
              "      fill: #FFFFFF;\n",
              "    }\n",
              "  </style>\n",
              "\n",
              "    <script>\n",
              "      const buttonEl =\n",
              "        document.querySelector('#df-30387763-a74c-4a8c-a4a8-51acd51f521f button.colab-df-convert');\n",
              "      buttonEl.style.display =\n",
              "        google.colab.kernel.accessAllowed ? 'block' : 'none';\n",
              "\n",
              "      async function convertToInteractive(key) {\n",
              "        const element = document.querySelector('#df-30387763-a74c-4a8c-a4a8-51acd51f521f');\n",
              "        const dataTable =\n",
              "          await google.colab.kernel.invokeFunction('convertToInteractive',\n",
              "                                                    [key], {});\n",
              "        if (!dataTable) return;\n",
              "\n",
              "        const docLinkHtml = 'Like what you see? Visit the ' +\n",
              "          '<a target=\"_blank\" href=https://colab.research.google.com/notebooks/data_table.ipynb>data table notebook</a>'\n",
              "          + ' to learn more about interactive tables.';\n",
              "        element.innerHTML = '';\n",
              "        dataTable['output_type'] = 'display_data';\n",
              "        await google.colab.output.renderOutput(dataTable, element);\n",
              "        const docLink = document.createElement('div');\n",
              "        docLink.innerHTML = docLinkHtml;\n",
              "        element.appendChild(docLink);\n",
              "      }\n",
              "    </script>\n",
              "  </div>\n",
              "\n",
              "\n",
              "<div id=\"df-6653611c-eb2f-4322-b952-ece7e42a9d73\">\n",
              "  <button class=\"colab-df-quickchart\" onclick=\"quickchart('df-6653611c-eb2f-4322-b952-ece7e42a9d73')\"\n",
              "            title=\"Suggest charts.\"\n",
              "            style=\"display:none;\">\n",
              "\n",
              "<svg xmlns=\"http://www.w3.org/2000/svg\" height=\"24px\"viewBox=\"0 0 24 24\"\n",
              "     width=\"24px\">\n",
              "    <g>\n",
              "        <path d=\"M19 3H5c-1.1 0-2 .9-2 2v14c0 1.1.9 2 2 2h14c1.1 0 2-.9 2-2V5c0-1.1-.9-2-2-2zM9 17H7v-7h2v7zm4 0h-2V7h2v10zm4 0h-2v-4h2v4z\"/>\n",
              "    </g>\n",
              "</svg>\n",
              "  </button>\n",
              "\n",
              "<style>\n",
              "  .colab-df-quickchart {\n",
              "      --bg-color: #E8F0FE;\n",
              "      --fill-color: #1967D2;\n",
              "      --hover-bg-color: #E2EBFA;\n",
              "      --hover-fill-color: #174EA6;\n",
              "      --disabled-fill-color: #AAA;\n",
              "      --disabled-bg-color: #DDD;\n",
              "  }\n",
              "\n",
              "  [theme=dark] .colab-df-quickchart {\n",
              "      --bg-color: #3B4455;\n",
              "      --fill-color: #D2E3FC;\n",
              "      --hover-bg-color: #434B5C;\n",
              "      --hover-fill-color: #FFFFFF;\n",
              "      --disabled-bg-color: #3B4455;\n",
              "      --disabled-fill-color: #666;\n",
              "  }\n",
              "\n",
              "  .colab-df-quickchart {\n",
              "    background-color: var(--bg-color);\n",
              "    border: none;\n",
              "    border-radius: 50%;\n",
              "    cursor: pointer;\n",
              "    display: none;\n",
              "    fill: var(--fill-color);\n",
              "    height: 32px;\n",
              "    padding: 0;\n",
              "    width: 32px;\n",
              "  }\n",
              "\n",
              "  .colab-df-quickchart:hover {\n",
              "    background-color: var(--hover-bg-color);\n",
              "    box-shadow: 0 1px 2px rgba(60, 64, 67, 0.3), 0 1px 3px 1px rgba(60, 64, 67, 0.15);\n",
              "    fill: var(--button-hover-fill-color);\n",
              "  }\n",
              "\n",
              "  .colab-df-quickchart-complete:disabled,\n",
              "  .colab-df-quickchart-complete:disabled:hover {\n",
              "    background-color: var(--disabled-bg-color);\n",
              "    fill: var(--disabled-fill-color);\n",
              "    box-shadow: none;\n",
              "  }\n",
              "\n",
              "  .colab-df-spinner {\n",
              "    border: 2px solid var(--fill-color);\n",
              "    border-color: transparent;\n",
              "    border-bottom-color: var(--fill-color);\n",
              "    animation:\n",
              "      spin 1s steps(1) infinite;\n",
              "  }\n",
              "\n",
              "  @keyframes spin {\n",
              "    0% {\n",
              "      border-color: transparent;\n",
              "      border-bottom-color: var(--fill-color);\n",
              "      border-left-color: var(--fill-color);\n",
              "    }\n",
              "    20% {\n",
              "      border-color: transparent;\n",
              "      border-left-color: var(--fill-color);\n",
              "      border-top-color: var(--fill-color);\n",
              "    }\n",
              "    30% {\n",
              "      border-color: transparent;\n",
              "      border-left-color: var(--fill-color);\n",
              "      border-top-color: var(--fill-color);\n",
              "      border-right-color: var(--fill-color);\n",
              "    }\n",
              "    40% {\n",
              "      border-color: transparent;\n",
              "      border-right-color: var(--fill-color);\n",
              "      border-top-color: var(--fill-color);\n",
              "    }\n",
              "    60% {\n",
              "      border-color: transparent;\n",
              "      border-right-color: var(--fill-color);\n",
              "    }\n",
              "    80% {\n",
              "      border-color: transparent;\n",
              "      border-right-color: var(--fill-color);\n",
              "      border-bottom-color: var(--fill-color);\n",
              "    }\n",
              "    90% {\n",
              "      border-color: transparent;\n",
              "      border-bottom-color: var(--fill-color);\n",
              "    }\n",
              "  }\n",
              "</style>\n",
              "\n",
              "  <script>\n",
              "    async function quickchart(key) {\n",
              "      const quickchartButtonEl =\n",
              "        document.querySelector('#' + key + ' button');\n",
              "      quickchartButtonEl.disabled = true;  // To prevent multiple clicks.\n",
              "      quickchartButtonEl.classList.add('colab-df-spinner');\n",
              "      try {\n",
              "        const charts = await google.colab.kernel.invokeFunction(\n",
              "            'suggestCharts', [key], {});\n",
              "      } catch (error) {\n",
              "        console.error('Error during call to suggestCharts:', error);\n",
              "      }\n",
              "      quickchartButtonEl.classList.remove('colab-df-spinner');\n",
              "      quickchartButtonEl.classList.add('colab-df-quickchart-complete');\n",
              "    }\n",
              "    (() => {\n",
              "      let quickchartButtonEl =\n",
              "        document.querySelector('#df-6653611c-eb2f-4322-b952-ece7e42a9d73 button');\n",
              "      quickchartButtonEl.style.display =\n",
              "        google.colab.kernel.accessAllowed ? 'block' : 'none';\n",
              "    })();\n",
              "  </script>\n",
              "</div>\n",
              "    </div>\n",
              "  </div>\n"
            ]
          },
          "metadata": {},
          "execution_count": 3
        }
      ]
    },
    {
      "cell_type": "code",
      "source": [
        "df.groupby('label').describe()\n",
        "sns.countplot(data = df, x= df[\"label\"]).set_title(\"Count of SPAM and NON-SPAM messages\")\n",
        "plt.show()"
      ],
      "metadata": {
        "colab": {
          "base_uri": "https://localhost:8080/",
          "height": 472
        },
        "id": "6CdKc_Kp-9s7",
        "outputId": "16e860ed-ee38-457d-dc06-46a469f1d5ab"
      },
      "execution_count": 4,
      "outputs": [
        {
          "output_type": "display_data",
          "data": {
            "text/plain": [
              "<Figure size 640x480 with 1 Axes>"
            ],
            "image/png": "[encoded data removed]"
          },
          "metadata": {}
        }
      ]
    },
    {
      "cell_type": "code",
      "source": [
        "from collections import Counter\n",
        "\n",
        "count1 = Counter(\" \".join(df[df['label']=='ham'][\"msg\"]).split()).most_common(10)\n",
        "data1 = pd.DataFrame.from_dict(count1)\n",
        "data1 = data1.rename(columns={0: \"words of ham\", 1 : \"count\"})\n",
        "count2 = Counter(\" \".join(df[df['label']=='spam'][\"msg\"]).split()).most_common(10)\n",
        "data2 = pd.DataFrame.from_dict(count2)\n",
        "data2 = data2.rename(columns={0: \"words of spam\", 1 : \"count_\"})"
      ],
      "metadata": {
        "id": "YhWLH1-h_Fcj"
      },
      "execution_count": 5,
      "outputs": []
    },
    {
      "cell_type": "code",
      "source": [
        "print(data1)"
      ],
      "metadata": {
        "colab": {
          "base_uri": "https://localhost:8080/"
        },
        "id": "Q3A7I-O4_eze",
        "outputId": "75b4d9af-1a95-4546-a4e6-fa0ab13a9b68"
      },
      "execution_count": 6,
      "outputs": [
        {
          "output_type": "stream",
          "name": "stdout",
          "text": [
            "  words of ham  count\n",
            "0           to   1538\n",
            "1          you   1462\n",
            "2            I   1439\n",
            "3          the   1029\n",
            "4            a    977\n",
            "5            i    742\n",
            "6          and    739\n",
            "7           in    736\n",
            "8            u    651\n",
            "9           is    645\n"
          ]
        }
      ]
    },
    {
      "cell_type": "code",
      "source": [
        "print(data2)"
      ],
      "metadata": {
        "colab": {
          "base_uri": "https://localhost:8080/"
        },
        "id": "dUbsK_H-_iZy",
        "outputId": "2204bc0e-c55d-4246-ec10-f19afed7b604"
      },
      "execution_count": 7,
      "outputs": [
        {
          "output_type": "stream",
          "name": "stdout",
          "text": [
            "  words of spam  count_\n",
            "0            to     607\n",
            "1             a     360\n",
            "2          your     187\n",
            "3          call     185\n",
            "4            or     185\n",
            "5           the     178\n",
            "6             2     169\n",
            "7           for     169\n",
            "8           you     164\n",
            "9            is     143\n"
          ]
        }
      ]
    },
    {
      "cell_type": "code",
      "source": [
        "data2.plot.bar(legend = False, color = 'lightgreen', figsize = (8,5))\n",
        "y_pos = np.arange(len(data2[\"words of spam\"]))\n",
        "plt.xticks(y_pos, data2[\"words of spam\"])\n",
        "plt.title('Top 10 words of SPAM')\n",
        "plt.xlabel('word')\n",
        "plt.ylabel('count')\n",
        "plt.show()\n",
        "\n",
        "data1.plot.bar(legend = False, color = 'lightblue',figsize = (8,5))\n",
        "y_pos = np.arange(len(data1[\"words of ham\"]))\n",
        "plt.xticks(y_pos, data1[\"words of ham\"])\n",
        "plt.title('Top 10 words of NON-SPAM')\n",
        "plt.xlabel('word')\n",
        "plt.ylabel('count')\n",
        "plt.show()"
      ],
      "metadata": {
        "colab": {
          "base_uri": "https://localhost:8080/",
          "height": 986
        },
        "id": "6vATigdA_mI_",
        "outputId": "c66be1ad-70b4-40d7-fe46-1e31c05cd215"
      },
      "execution_count": 8,
      "outputs": [
        {
          "output_type": "display_data",
          "data": {
            "text/plain": [
              "<Figure size 800x500 with 1 Axes>"
            ],
            "image/png": "[encoded data removed]"
          },
          "metadata": {}
        },
        {
          "output_type": "display_data",
          "data": {
            "text/plain": [
              "<Figure size 800x500 with 1 Axes>"
            ],
            "image/png": "[encoded data removed]"
          },
          "metadata": {}
        }
      ]
    },
    {
      "cell_type": "markdown",
      "source": [
        "Data Preprocessing"
      ],
      "metadata": {
        "id": "zO6VQoI-ACeY"
      }
    },
    {
      "cell_type": "code",
      "source": [
        "import string\n",
        "def data_preprocessing(mess):\n",
        "    nopunc =[char for char in mess if char not in string.punctuation]\n",
        "    nopunc=''.join(nopunc)\n",
        "    arr = [word.lower() for word in nopunc.split() if word.lower() not in stopwords.words('english')]\n",
        "    s = ''\n",
        "    for x in arr:\n",
        "        s += x +' '\n",
        "    return s"
      ],
      "metadata": {
        "id": "6OJRoVRM_ovJ"
      },
      "execution_count": 9,
      "outputs": []
    },
    {
      "cell_type": "code",
      "source": [
        "df['f_msg']=df['msg'].apply(data_preprocessing)\n",
        "df.head()"
      ],
      "metadata": {
        "colab": {
          "base_uri": "https://localhost:8080/",
          "height": 206
        },
        "id": "1CkUeM-D_qy-",
        "outputId": "1f865e7a-a6b5-4cda-fa25-07aa9470e959"
      },
      "execution_count": 10,
      "outputs": [
        {
          "output_type": "execute_result",
          "data": {
            "text/plain": [
              "  label                                                msg  \\\n",
              "0   ham  Go until jurong point, crazy.. Available only ...   \n",
              "1   ham                      Ok lar... Joking wif u oni...   \n",
              "2  spam  Free entry in 2 a wkly comp to win FA Cup fina...   \n",
              "3   ham  U dun say so early hor... U c already then say...   \n",
              "4   ham  Nah I don't think he goes to usf, he lives aro...   \n",
              "\n",
              "                                               f_msg  \n",
              "0  go jurong point crazy available bugis n great ...  \n",
              "1                           ok lar joking wif u oni   \n",
              "2  free entry 2 wkly comp win fa cup final tkts 2...  \n",
              "3               u dun say early hor u c already say   \n",
              "4       nah dont think goes usf lives around though   "
            ],
            "text/html": [
              "\n",
              "  <div id=\"df-e287c574-def8-4eee-921b-463609155427\" class=\"colab-df-container\">\n",
              "    <div>\n",
              "<style scoped>\n",
              "    .dataframe tbody tr th:only-of-type {\n",
              "        vertical-align: middle;\n",
              "    }\n",
              "\n",
              "    .dataframe tbody tr th {\n",
              "        vertical-align: top;\n",
              "    }\n",
              "\n",
              "    .dataframe thead th {\n",
              "        text-align: right;\n",
              "    }\n",
              "</style>\n",
              "<table border=\"1\" class=\"dataframe\">\n",
              "  <thead>\n",
              "    <tr style=\"text-align: right;\">\n",
              "      <th></th>\n",
              "      <th>label</th>\n",
              "      <th>msg</th>\n",
              "      <th>f_msg</th>\n",
              "    </tr>\n",
              "  </thead>\n",
              "  <tbody>\n",
              "    <tr>\n",
              "      <th>0</th>\n",
              "      <td>ham</td>\n",
              "      <td>Go until jurong point, crazy.. Available only ...</td>\n",
              "      <td>go jurong point crazy available bugis n great ...</td>\n",
              "    </tr>\n",
              "    <tr>\n",
              "      <th>1</th>\n",
              "      <td>ham</td>\n",
              "      <td>Ok lar... Joking wif u oni...</td>\n",
              "      <td>ok lar joking wif u oni</td>\n",
              "    </tr>\n",
              "    <tr>\n",
              "      <th>2</th>\n",
              "      <td>spam</td>\n",
              "      <td>Free entry in 2 a wkly comp to win FA Cup fina...</td>\n",
              "      <td>free entry 2 wkly comp win fa cup final tkts 2...</td>\n",
              "    </tr>\n",
              "    <tr>\n",
              "      <th>3</th>\n",
              "      <td>ham</td>\n",
              "      <td>U dun say so early hor... U c already then say...</td>\n",
              "      <td>u dun say early hor u c already say</td>\n",
              "    </tr>\n",
              "    <tr>\n",
              "      <th>4</th>\n",
              "      <td>ham</td>\n",
              "      <td>Nah I don't think he goes to usf, he lives aro...</td>\n",
              "      <td>nah dont think goes usf lives around though</td>\n",
              "    </tr>\n",
              "  </tbody>\n",
              "</table>\n",
              "</div>\n",
              "    <div class=\"colab-df-buttons\">\n",
              "\n",
              "  <div class=\"colab-df-container\">\n",
              "    <button class=\"colab-df-convert\" onclick=\"convertToInteractive('df-e287c574-def8-4eee-921b-463609155427')\"\n",
              "            title=\"Convert this dataframe to an interactive table.\"\n",
              "            style=\"display:none;\">\n",
              "\n",
              "  <svg xmlns=\"http://www.w3.org/2000/svg\" height=\"24px\" viewBox=\"0 -960 960 960\">\n",
              "    <path d=\"M120-120v-720h720v720H120Zm60-500h600v-160H180v160Zm220 220h160v-160H400v160Zm0 220h160v-160H400v160ZM180-400h160v-160H180v160Zm440 0h160v-160H620v160ZM180-180h160v-160H180v160Zm440 0h160v-160H620v160Z\"/>\n",
              "  </svg>\n",
              "    </button>\n",
              "\n",
              "  <style>\n",
              "    .colab-df-container {\n",
              "      display:flex;\n",
              "      gap: 12px;\n",
              "    }\n",
              "\n",
              "    .colab-df-convert {\n",
              "      background-color: #E8F0FE;\n",
              "      border: none;\n",
              "      border-radius: 50%;\n",
              "      cursor: pointer;\n",
              "      display: none;\n",
              "      fill: #1967D2;\n",
              "      height: 32px;\n",
              "      padding: 0 0 0 0;\n",
              "      width: 32px;\n",
              "    }\n",
              "\n",
              "    .colab-df-convert:hover {\n",
              "      background-color: #E2EBFA;\n",
              "      box-shadow: 0px 1px 2px rgba(60, 64, 67, 0.3), 0px 1px 3px 1px rgba(60, 64, 67, 0.15);\n",
              "      fill: #174EA6;\n",
              "    }\n",
              "\n",
              "    .colab-df-buttons div {\n",
              "      margin-bottom: 4px;\n",
              "    }\n",
              "\n",
              "    [theme=dark] .colab-df-convert {\n",
              "      background-color: #3B4455;\n",
              "      fill: #D2E3FC;\n",
              "    }\n",
              "\n",
              "    [theme=dark] .colab-df-convert:hover {\n",
              "      background-color: #434B5C;\n",
              "      box-shadow: 0px 1px 3px 1px rgba(0, 0, 0, 0.15);\n",
              "      filter: drop-shadow(0px 1px 2px rgba(0, 0, 0, 0.3));\n",
              "      fill: #FFFFFF;\n",
              "    }\n",
              "  </style>\n",
              "\n",
              "    <script>\n",
              "      const buttonEl =\n",
              "        document.querySelector('#df-e287c574-def8-4eee-921b-463609155427 button.colab-df-convert');\n",
              "      buttonEl.style.display =\n",
              "        google.colab.kernel.accessAllowed ? 'block' : 'none';\n",
              "\n",
              "      async function convertToInteractive(key) {\n",
              "        const element = document.querySelector('#df-e287c574-def8-4eee-921b-463609155427');\n",
              "        const dataTable =\n",
              "          await google.colab.kernel.invokeFunction('convertToInteractive',\n",
              "                                                    [key], {});\n",
              "        if (!dataTable) return;\n",
              "\n",
              "        const docLinkHtml = 'Like what you see? Visit the ' +\n",
              "          '<a target=\"_blank\" href=https://colab.research.google.com/notebooks/data_table.ipynb>data table notebook</a>'\n",
              "          + ' to learn more about interactive tables.';\n",
              "        element.innerHTML = '';\n",
              "        dataTable['output_type'] = 'display_data';\n",
              "        await google.colab.output.renderOutput(dataTable, element);\n",
              "        const docLink = document.createElement('div');\n",
              "        docLink.innerHTML = docLinkHtml;\n",
              "        element.appendChild(docLink);\n",
              "      }\n",
              "    </script>\n",
              "  </div>\n",
              "\n",
              "\n",
              "<div id=\"df-3565749c-0207-4df7-a6d3-94b1a8938e10\">\n",
              "  <button class=\"colab-df-quickchart\" onclick=\"quickchart('df-3565749c-0207-4df7-a6d3-94b1a8938e10')\"\n",
              "            title=\"Suggest charts.\"\n",
              "            style=\"display:none;\">\n",
              "\n",
              "<svg xmlns=\"http://www.w3.org/2000/svg\" height=\"24px\"viewBox=\"0 0 24 24\"\n",
              "     width=\"24px\">\n",
              "    <g>\n",
              "        <path d=\"M19 3H5c-1.1 0-2 .9-2 2v14c0 1.1.9 2 2 2h14c1.1 0 2-.9 2-2V5c0-1.1-.9-2-2-2zM9 17H7v-7h2v7zm4 0h-2V7h2v10zm4 0h-2v-4h2v4z\"/>\n",
              "    </g>\n",
              "</svg>\n",
              "  </button>\n",
              "\n",
              "<style>\n",
              "  .colab-df-quickchart {\n",
              "      --bg-color: #E8F0FE;\n",
              "      --fill-color: #1967D2;\n",
              "      --hover-bg-color: #E2EBFA;\n",
              "      --hover-fill-color: #174EA6;\n",
              "      --disabled-fill-color: #AAA;\n",
              "      --disabled-bg-color: #DDD;\n",
              "  }\n",
              "\n",
              "  [theme=dark] .colab-df-quickchart {\n",
              "      --bg-color: #3B4455;\n",
              "      --fill-color: #D2E3FC;\n",
              "      --hover-bg-color: #434B5C;\n",
              "      --hover-fill-color: #FFFFFF;\n",
              "      --disabled-bg-color: #3B4455;\n",
              "      --disabled-fill-color: #666;\n",
              "  }\n",
              "\n",
              "  .colab-df-quickchart {\n",
              "    background-color: var(--bg-color);\n",
              "    border: none;\n",
              "    border-radius: 50%;\n",
              "    cursor: pointer;\n",
              "    display: none;\n",
              "    fill: var(--fill-color);\n",
              "    height: 32px;\n",
              "    padding: 0;\n",
              "    width: 32px;\n",
              "  }\n",
              "\n",
              "  .colab-df-quickchart:hover {\n",
              "    background-color: var(--hover-bg-color);\n",
              "    box-shadow: 0 1px 2px rgba(60, 64, 67, 0.3), 0 1px 3px 1px rgba(60, 64, 67, 0.15);\n",
              "    fill: var(--button-hover-fill-color);\n",
              "  }\n",
              "\n",
              "  .colab-df-quickchart-complete:disabled,\n",
              "  .colab-df-quickchart-complete:disabled:hover {\n",
              "    background-color: var(--disabled-bg-color);\n",
              "    fill: var(--disabled-fill-color);\n",
              "    box-shadow: none;\n",
              "  }\n",
              "\n",
              "  .colab-df-spinner {\n",
              "    border: 2px solid var(--fill-color);\n",
              "    border-color: transparent;\n",
              "    border-bottom-color: var(--fill-color);\n",
              "    animation:\n",
              "      spin 1s steps(1) infinite;\n",
              "  }\n",
              "\n",
              "  @keyframes spin {\n",
              "    0% {\n",
              "      border-color: transparent;\n",
              "      border-bottom-color: var(--fill-color);\n",
              "      border-left-color: var(--fill-color);\n",
              "    }\n",
              "    20% {\n",
              "      border-color: transparent;\n",
              "      border-left-color: var(--fill-color);\n",
              "      border-top-color: var(--fill-color);\n",
              "    }\n",
              "    30% {\n",
              "      border-color: transparent;\n",
              "      border-left-color: var(--fill-color);\n",
              "      border-top-color: var(--fill-color);\n",
              "      border-right-color: var(--fill-color);\n",
              "    }\n",
              "    40% {\n",
              "      border-color: transparent;\n",
              "      border-right-color: var(--fill-color);\n",
              "      border-top-color: var(--fill-color);\n",
              "    }\n",
              "    60% {\n",
              "      border-color: transparent;\n",
              "      border-right-color: var(--fill-color);\n",
              "    }\n",
              "    80% {\n",
              "      border-color: transparent;\n",
              "      border-right-color: var(--fill-color);\n",
              "      border-bottom-color: var(--fill-color);\n",
              "    }\n",
              "    90% {\n",
              "      border-color: transparent;\n",
              "      border-bottom-color: var(--fill-color);\n",
              "    }\n",
              "  }\n",
              "</style>\n",
              "\n",
              "  <script>\n",
              "    async function quickchart(key) {\n",
              "      const quickchartButtonEl =\n",
              "        document.querySelector('#' + key + ' button');\n",
              "      quickchartButtonEl.disabled = true;  // To prevent multiple clicks.\n",
              "      quickchartButtonEl.classList.add('colab-df-spinner');\n",
              "      try {\n",
              "        const charts = await google.colab.kernel.invokeFunction(\n",
              "            'suggestCharts', [key], {});\n",
              "      } catch (error) {\n",
              "        console.error('Error during call to suggestCharts:', error);\n",
              "      }\n",
              "      quickchartButtonEl.classList.remove('colab-df-spinner');\n",
              "      quickchartButtonEl.classList.add('colab-df-quickchart-complete');\n",
              "    }\n",
              "    (() => {\n",
              "      let quickchartButtonEl =\n",
              "        document.querySelector('#df-3565749c-0207-4df7-a6d3-94b1a8938e10 button');\n",
              "      quickchartButtonEl.style.display =\n",
              "        google.colab.kernel.accessAllowed ? 'block' : 'none';\n",
              "    })();\n",
              "  </script>\n",
              "</div>\n",
              "    </div>\n",
              "  </div>\n"
            ]
          },
          "metadata": {},
          "execution_count": 10
        }
      ]
    },
    {
      "cell_type": "code",
      "source": [
        "# missing values\n",
        "df.isnull().sum()"
      ],
      "metadata": {
        "colab": {
          "base_uri": "https://localhost:8080/"
        },
        "id": "_0clSGwY_tvP",
        "outputId": "ba94741e-dbf8-4955-e959-dcdff6b52513"
      },
      "execution_count": 11,
      "outputs": [
        {
          "output_type": "execute_result",
          "data": {
            "text/plain": [
              "label    0\n",
              "msg      0\n",
              "f_msg    0\n",
              "dtype: int64"
            ]
          },
          "metadata": {},
          "execution_count": 11
        }
      ]
    },
    {
      "cell_type": "code",
      "source": [
        "# check for duplicate values\n",
        "df.duplicated().sum()"
      ],
      "metadata": {
        "colab": {
          "base_uri": "https://localhost:8080/"
        },
        "id": "q-U6E3Dg_uk7",
        "outputId": "acb1409c-c6e2-46df-a55f-e5941cb0ec74"
      },
      "execution_count": 12,
      "outputs": [
        {
          "output_type": "execute_result",
          "data": {
            "text/plain": [
              "403"
            ]
          },
          "metadata": {},
          "execution_count": 12
        }
      ]
    },
    {
      "cell_type": "code",
      "source": [
        "# remove duplicates\n",
        "df = df.drop_duplicates(keep='first')"
      ],
      "metadata": {
        "id": "w5KztaTx_xEe"
      },
      "execution_count": 13,
      "outputs": []
    },
    {
      "cell_type": "code",
      "source": [
        "df.duplicated().sum()"
      ],
      "metadata": {
        "colab": {
          "base_uri": "https://localhost:8080/"
        },
        "id": "dEN9pjpb_zvr",
        "outputId": "df563e81-17cc-42f8-c0f3-a556c748e5fe"
      },
      "execution_count": 14,
      "outputs": [
        {
          "output_type": "execute_result",
          "data": {
            "text/plain": [
              "0"
            ]
          },
          "metadata": {},
          "execution_count": 14
        }
      ]
    },
    {
      "cell_type": "code",
      "source": [
        "df.shape"
      ],
      "metadata": {
        "colab": {
          "base_uri": "https://localhost:8080/"
        },
        "id": "MoYG8s9S_1Ly",
        "outputId": "b1be0d25-add5-44e9-d40d-4d4d6fb0be03"
      },
      "execution_count": 15,
      "outputs": [
        {
          "output_type": "execute_result",
          "data": {
            "text/plain": [
              "(5169, 3)"
            ]
          },
          "metadata": {},
          "execution_count": 15
        }
      ]
    },
    {
      "cell_type": "code",
      "source": [
        "from collections import Counter\n",
        "\n",
        "count1 = Counter(\" \".join(df[df['label']=='ham'][\"f_msg\"]).split()).most_common(10)\n",
        "data1 = pd.DataFrame.from_dict(count1)\n",
        "data1 = data1.rename(columns={0: \"words of ham\", 1 : \"count\"})\n",
        "count2 = Counter(\" \".join(df[df['label']=='spam'][\"f_msg\"]).split()).most_common(10)\n",
        "data2 = pd.DataFrame.from_dict(count2)\n",
        "data2 = data2.rename(columns={0: \"words of spam\", 1 : \"count_\"})"
      ],
      "metadata": {
        "id": "ULpFM38H_5Sd"
      },
      "execution_count": 16,
      "outputs": []
    },
    {
      "cell_type": "markdown",
      "source": [
        "Word Count After Preprocessing"
      ],
      "metadata": {
        "id": "iJf9Z9fg_87y"
      }
    },
    {
      "cell_type": "code",
      "source": [
        "data2.plot.bar(legend = False, color = 'lightgreen', figsize = (8,5))\n",
        "y_pos = np.arange(len(data2[\"words of spam\"]))\n",
        "plt.xticks(y_pos, data2[\"words of spam\"])\n",
        "plt.title('Top 10 words of SPAM after preprocessing')\n",
        "plt.xlabel('word')\n",
        "plt.ylabel('count')\n",
        "plt.show()\n",
        "\n",
        "data1.plot.bar(legend = False, color = 'lightblue',figsize = (8,5))\n",
        "y_pos = np.arange(len(data1[\"words of ham\"]))\n",
        "plt.xticks(y_pos, data1[\"words of ham\"])\n",
        "plt.title('Top 10 words of NON-SPAM after preprocessing')\n",
        "plt.xlabel('word')\n",
        "plt.ylabel('count')\n",
        "plt.show()"
      ],
      "metadata": {
        "colab": {
          "base_uri": "https://localhost:8080/",
          "height": 1000
        },
        "id": "iaLqeA2g_-ng",
        "outputId": "095c4081-9688-47ee-807f-f3709ed0d1e3"
      },
      "execution_count": 17,
      "outputs": [
        {
          "output_type": "display_data",
          "data": {
            "text/plain": [
              "<Figure size 800x500 with 1 Axes>"
            ],
            "image/png": "[encoded data removed]"
          },
          "metadata": {}
        },
        {
          "output_type": "display_data",
          "data": {
            "text/plain": [
              "<Figure size 800x500 with 1 Axes>"
            ],
            "image/png": "[encoded data removed]"
          },
          "metadata": {}
        }
      ]
    },
    {
      "cell_type": "markdown",
      "source": [
        "Test-Train Split"
      ],
      "metadata": {
        "id": "AZ_Ib7dOASSr"
      }
    },
    {
      "cell_type": "code",
      "source": [
        "from sklearn.model_selection import train_test_split\n",
        "total_vocablary_size = 800\n",
        "msg_label = df['label'].map({'ham': 0, 'spam': 1}).values\n",
        "X_train, X_test, y_train, y_test = train_test_split(df['f_msg'],msg_label,test_size=0.2)\n",
        "print(len(X_train),len(X_test))"
      ],
      "metadata": {
        "colab": {
          "base_uri": "https://localhost:8080/"
        },
        "id": "WhLkySLTAR1G",
        "outputId": "c8b88847-ed48-42b2-91c2-be03754ef122"
      },
      "execution_count": 18,
      "outputs": [
        {
          "output_type": "stream",
          "name": "stdout",
          "text": [
            "4135 1034\n"
          ]
        }
      ]
    },
    {
      "cell_type": "code",
      "source": [
        "import tensorflow as tf\n",
        "from tensorflow.keras.preprocessing.text import Tokenizer\n",
        "from tensorflow.keras.preprocessing.sequence import pad_sequences\n",
        "tokenizer = Tokenizer(num_words = total_vocablary_size)\n",
        "tokenizer.fit_on_texts(X_train)\n",
        "X_training = pad_sequences (tokenizer.texts_to_sequences(X_train))\n",
        "X_testing = pad_sequences(tokenizer.texts_to_sequences(X_test))\n",
        "epoch_count = 20"
      ],
      "metadata": {
        "id": "g8G4TrxKANc4"
      },
      "execution_count": 19,
      "outputs": []
    },
    {
      "cell_type": "code",
      "source": [
        "from tensorflow.keras.models import Sequential\n",
        "from tensorflow.keras.layers import Embedding, GlobalAveragePooling1D, Dense, Dropout, LSTM, Bidirectional\n",
        "def dense_model():\n",
        "    dense_model = Sequential()\n",
        "    dense_model.add(Embedding(total_vocablary_size, 16))\n",
        "    dense_model.add(GlobalAveragePooling1D())\n",
        "    dense_model.add(Dense(24, activation='relu'))\n",
        "    dense_model.add(Dropout(0.1))\n",
        "    dense_model.add(Dense(1, activation='sigmoid'))\n",
        "\n",
        "    dense_model.summary()\n",
        "\n",
        "    dense_model.compile(loss='binary_crossentropy',optimizer='adam' ,metrics=['accuracy'])\n",
        "\n",
        "    dense_hist = dense_model.fit(X_training, y_train, epochs=epoch_count, validation_data=(X_testing, y_test))\n",
        "\n",
        "    x = dense_model.evaluate(X_testing, y_test)\n",
        "    dense_los = x[0]\n",
        "    dense_acc = x[1]\n",
        "    print(x)\n",
        "    print('Loss:- ',x[0])\n",
        "    print('Accuracy:- ',x[1])\n",
        "\n",
        "    plt.plot(range(1,(epoch_count+1)),dense_hist.history['accuracy'],label='Training Accuracy')\n",
        "    plt.plot(range(1,(epoch_count+1)),dense_hist.history['val_accuracy'],label='Validation Accuracy')\n",
        "    plt.xlabel('Epoch')\n",
        "    plt.ylabel('Value')\n",
        "    plt.title('Accuracy Graph for Dense Classifier')\n",
        "    plt.legend()\n",
        "    plt.show()\n",
        "\n",
        "    plt.plot(range(1,(epoch_count+1)),dense_hist.history['loss'],label='Training Loss')\n",
        "    plt.plot(range(1,(epoch_count+1)),dense_hist.history['val_loss'],label='Validation Loss')\n",
        "    plt.xlabel('Epoch')\n",
        "    plt.ylabel('Value')\n",
        "    plt.title('Validation Graph for Dense Classifier')\n",
        "    plt.legend()\n",
        "    plt.show()\n",
        "\n",
        "    return dense_model, dense_hist, dense_los, dense_acc\n",
        "\n",
        "dense_model, dense_hist, dense_los, dense_acc = dense_model()"
      ],
      "metadata": {
        "colab": {
          "base_uri": "https://localhost:8080/",
          "height": 1000
        },
        "id": "UgjsUX4KANAE",
        "outputId": "66687490-79db-419b-f79d-9f616f090945"
      },
      "execution_count": 20,
      "outputs": [
        {
          "output_type": "stream",
          "name": "stdout",
          "text": [
            "Model: \"sequential\"\n",
            "_________________________________________________________________\n",
            " Layer (type)                Output Shape              Param #   \n",
            "=================================================================\n",
            " embedding (Embedding)       (None, None, 16)          12800     \n",
            "                                                                 \n",
            " global_average_pooling1d (  (None, 16)                0         \n",
            " GlobalAveragePooling1D)                                         \n",
            "                                                                 \n",
            " dense (Dense)               (None, 24)                408       \n",
            "                                                                 \n",
            " dropout (Dropout)           (None, 24)                0         \n",
            "                                                                 \n",
            " dense_1 (Dense)             (None, 1)                 25        \n",
            "                                                                 \n",
            "=================================================================\n",
            "Total params: 13233 (51.69 KB)\n",
            "Trainable params: 13233 (51.69 KB)\n",
            "Non-trainable params: 0 (0.00 Byte)\n",
            "_________________________________________________________________\n",
            "Epoch 1/20\n",
            "130/130 [==============================] - 2s 5ms/step - loss: 0.5669 - accuracy: 0.8641 - val_loss: 0.4109 - val_accuracy: 0.8762\n",
            "Epoch 2/20\n",
            "130/130 [==============================] - 0s 3ms/step - loss: 0.3595 - accuracy: 0.8730 - val_loss: 0.3386 - val_accuracy: 0.8762\n",
            "Epoch 3/20\n",
            "130/130 [==============================] - 0s 3ms/step - loss: 0.3266 - accuracy: 0.8730 - val_loss: 0.3223 - val_accuracy: 0.8762\n",
            "Epoch 4/20\n",
            "130/130 [==============================] - 0s 3ms/step - loss: 0.2941 - accuracy: 0.8735 - val_loss: 0.2899 - val_accuracy: 0.8762\n",
            "Epoch 5/20\n",
            "130/130 [==============================] - 1s 7ms/step - loss: 0.2323 - accuracy: 0.9016 - val_loss: 0.2203 - val_accuracy: 0.8975\n",
            "Epoch 6/20\n",
            "130/130 [==============================] - 1s 11ms/step - loss: 0.1562 - accuracy: 0.9495 - val_loss: 0.1517 - val_accuracy: 0.9352\n",
            "Epoch 7/20\n",
            "130/130 [==============================] - 2s 13ms/step - loss: 0.1071 - accuracy: 0.9688 - val_loss: 0.1200 - val_accuracy: 0.9584\n",
            "Epoch 8/20\n",
            "130/130 [==============================] - 1s 9ms/step - loss: 0.0887 - accuracy: 0.9753 - val_loss: 0.1024 - val_accuracy: 0.9642\n",
            "Epoch 9/20\n",
            "130/130 [==============================] - 1s 9ms/step - loss: 0.0753 - accuracy: 0.9785 - val_loss: 0.0885 - val_accuracy: 0.9739\n",
            "Epoch 10/20\n",
            "130/130 [==============================] - 1s 9ms/step - loss: 0.0660 - accuracy: 0.9821 - val_loss: 0.0963 - val_accuracy: 0.9671\n",
            "Epoch 11/20\n",
            "130/130 [==============================] - 1s 7ms/step - loss: 0.0619 - accuracy: 0.9811 - val_loss: 0.0780 - val_accuracy: 0.9758\n",
            "Epoch 12/20\n",
            "130/130 [==============================] - 1s 7ms/step - loss: 0.0565 - accuracy: 0.9828 - val_loss: 0.0756 - val_accuracy: 0.9768\n",
            "Epoch 13/20\n",
            "130/130 [==============================] - 1s 6ms/step - loss: 0.0520 - accuracy: 0.9848 - val_loss: 0.0759 - val_accuracy: 0.9749\n",
            "Epoch 14/20\n",
            "130/130 [==============================] - 0s 3ms/step - loss: 0.0512 - accuracy: 0.9855 - val_loss: 0.0734 - val_accuracy: 0.9787\n",
            "Epoch 15/20\n",
            "130/130 [==============================] - 0s 3ms/step - loss: 0.0480 - accuracy: 0.9860 - val_loss: 0.0707 - val_accuracy: 0.9797\n",
            "Epoch 16/20\n",
            "130/130 [==============================] - 0s 3ms/step - loss: 0.0453 - accuracy: 0.9865 - val_loss: 0.0808 - val_accuracy: 0.9720\n",
            "Epoch 17/20\n",
            "130/130 [==============================] - 0s 3ms/step - loss: 0.0436 - accuracy: 0.9869 - val_loss: 0.0787 - val_accuracy: 0.9729\n",
            "Epoch 18/20\n",
            "130/130 [==============================] - 0s 3ms/step - loss: 0.0392 - accuracy: 0.9874 - val_loss: 0.0725 - val_accuracy: 0.9768\n",
            "Epoch 19/20\n",
            "130/130 [==============================] - 0s 3ms/step - loss: 0.0396 - accuracy: 0.9881 - val_loss: 0.0671 - val_accuracy: 0.9816\n",
            "Epoch 20/20\n",
            "130/130 [==============================] - 0s 3ms/step - loss: 0.0360 - accuracy: 0.9898 - val_loss: 0.0769 - val_accuracy: 0.9768\n",
            "33/33 [==============================] - 0s 2ms/step - loss: 0.0769 - accuracy: 0.9768\n",
            "[0.0768536925315857, 0.9767891764640808]\n",
            "Loss:-  0.0768536925315857\n",
            "Accuracy:-  0.9767891764640808\n"
          ]
        },
        {
          "output_type": "display_data",
          "data": {
            "text/plain": [
              "<Figure size 640x480 with 1 Axes>"
            ],
            "image/png": "[encoded data removed]"
          },
          "metadata": {}
        },
        {
          "output_type": "display_data",
          "data": {
            "text/plain": [
              "<Figure size 640x480 with 1 Axes>"
            ],
            "image/png": "[encoded data removed]"
          },
          "metadata": {}
        }
      ]
    },
    {
      "cell_type": "code",
      "source": [
        "def preprocess_user_input(user_input):\n",
        "\n",
        "    user_input = data_preprocessing(user_input)\n",
        "    user_input_sequence = pad_sequences(tokenizer.texts_to_sequences([user_input]))\n",
        "    return user_input_sequence\n",
        "def predict_spam_or_not(user_input, model):\n",
        "\n",
        "    preprocessed_input = preprocess_user_input(user_input)\n",
        "    prediction = model.predict(preprocessed_input)\n",
        "    label = \"spam\" if prediction[0][0] > 0.5 else \"ham\"\n",
        "\n",
        "    return label\n",
        "user_input = \"Congratulations, you've won a free vacation! Claim your prize now!\"\n",
        "prediction = predict_spam_or_not(user_input, dense_model)\n",
        "print(\"Predicted label:\",prediction)"
      ],
      "metadata": {
        "colab": {
          "base_uri": "https://localhost:8080/"
        },
        "id": "Mjn7NqfqALnY",
        "outputId": "c1032ef5-c6c2-4229-f7f0-f7ccd11d0554"
      },
      "execution_count": 21,
      "outputs": [
        {
          "output_type": "stream",
          "name": "stdout",
          "text": [
            "1/1 [==============================] - 0s 96ms/step\n",
            "Predicted label: spam\n"
          ]
        }
      ]
    },
    {
      "cell_type": "code",
      "source": [
        "def preprocess_user_input(user_input):\n",
        "    user_input = data_preprocessing(user_input)\n",
        "    user_input_sequence = pad_sequences(tokenizer.texts_to_sequences([user_input]))\n",
        "    return user_input_sequence\n",
        "def predict_spam_or_not(user_input, model):\n",
        "    preprocessed_input = preprocess_user_input(user_input)\n",
        "    prediction = model.predict(preprocessed_input)\n",
        "    label = \"spam\" if prediction[0][0] > 0.5 else \"ham\"\n",
        "\n",
        "    return label\n",
        "user_input = \"Enter the SMS text:FreeMsg Hey there darling it's been 3 week's now and no word back! I'd like some fun you up for it still? Tb ok! XxX std chgs to send, £1.50 to rcv \"\n",
        "prediction = predict_spam_or_not(user_input, dense_model)\n",
        "print(\"Predicted label:\",prediction)"
      ],
      "metadata": {
        "colab": {
          "base_uri": "https://localhost:8080/"
        },
        "id": "syn9DoFYAgur",
        "outputId": "d3dae140-84f3-4240-9476-f68c40e35479"
      },
      "execution_count": 22,
      "outputs": [
        {
          "output_type": "stream",
          "name": "stdout",
          "text": [
            "1/1 [==============================] - 0s 67ms/step\n",
            "Predicted label: spam\n"
          ]
        }
      ]
    },
    {
      "cell_type": "code",
      "source": [
        "def preprocess_user_input(user_input):\n",
        "\n",
        "    user_input = data_preprocessing(user_input)\n",
        "    user_input_sequence = pad_sequences(tokenizer.texts_to_sequences([user_input]))\n",
        "    return user_input_sequence\n",
        "def predict_spam_or_not(user_input, model):\n",
        "\n",
        "    preprocessed_input = preprocess_user_input(user_input)\n",
        "    prediction = model.predict(preprocessed_input)\n",
        "    label = \"spam\" if prediction[0][0] > 0.5 else \"ham\"\n",
        "\n",
        "    return label\n",
        "user_input = \"U dun say so early hor... U c already then say...!\"\n",
        "prediction = predict_spam_or_not(user_input, dense_model)\n",
        "print(\"Predicted label:\",prediction)"
      ],
      "metadata": {
        "colab": {
          "base_uri": "https://localhost:8080/"
        },
        "id": "SQEUSKAoAk2e",
        "outputId": "c469233b-6f84-4c71-85a8-9cebf863619b"
      },
      "execution_count": 24,
      "outputs": [
        {
          "output_type": "stream",
          "name": "stdout",
          "text": [
            "1/1 [==============================] - 0s 102ms/step\n",
            "Predicted label: ham\n"
          ]
        }
      ]
    },
    {
      "cell_type": "code",
      "source": [
        "def preprocess_user_input(user_input):\n",
        "\n",
        "    user_input = data_preprocessing(user_input)\n",
        "    user_input_sequence = pad_sequences(tokenizer.texts_to_sequences([user_input]))\n",
        "    return user_input_sequence\n",
        "def predict_spam_or_not(user_input, model):\n",
        "\n",
        "    preprocessed_input = preprocess_user_input(user_input)\n",
        "    prediction = model.predict(preprocessed_input)\n",
        "    label = \"spam\" if prediction[0][0] > 0.5 else \"ham\"\n",
        "\n",
        "    return label\n",
        "user_input = \"FreeMsg Hey there darling it's been 3 week's now and no word back! I'd like some fun you up for it still? Tb ok! XxX std chgs to send, £1.50 to rcv\"\n",
        "prediction = predict_spam_or_not(user_input, dense_model)\n",
        "print(\"Predicted label:\",prediction)"
      ],
      "metadata": {
        "colab": {
          "base_uri": "https://localhost:8080/"
        },
        "id": "jhu0vGnGAqbI",
        "outputId": "565fc880-0a48-4959-de44-c02a40f1a8eb"
      },
      "execution_count": 23,
      "outputs": [
        {
          "output_type": "stream",
          "name": "stdout",
          "text": [
            "1/1 [==============================] - 0s 23ms/step\n",
            "Predicted label: spam\n"
          ]
        }
      ]
    },
    {
      "cell_type": "code",
      "source": [
        "def preprocess_user_input(user_input):\n",
        "\n",
        "    user_input = data_preprocessing(user_input)\n",
        "    user_input_sequence = pad_sequences(tokenizer.texts_to_sequences([user_input]))\n",
        "    return user_input_sequence\n",
        "def predict_spam_or_not(user_input, model):\n",
        "\n",
        "    preprocessed_input = preprocess_user_input(user_input)\n",
        "    prediction = model.predict(preprocessed_input)\n",
        "    label = \"spam\" if prediction[0][0] > 0.5 else \"ham\"\n",
        "\n",
        "    return label\n",
        "user_input = \"The Health & Glow Beauty Sale is Live! Buy 3K+ & get 3K+ FREE on h&g exclusive makeup, skin care, hair care & accessories. Tap: myhng.in/oct23 for more offers.\"\n",
        "prediction = predict_spam_or_not(user_input, dense_model)\n",
        "print(\"Predicted label:\",prediction)"
      ],
      "metadata": {
        "colab": {
          "base_uri": "https://localhost:8080/"
        },
        "id": "hI1GFmvUAvmo",
        "outputId": "804b97d8-5113-4883-d125-1f62ec699576"
      },
      "execution_count": 25,
      "outputs": [
        {
          "output_type": "stream",
          "name": "stdout",
          "text": [
            "1/1 [==============================] - 0s 87ms/step\n",
            "Predicted label: ham\n"
          ]
        }
      ]
    },
    {
      "cell_type": "code",
      "source": [
        "def preprocess_user_input(user_input):\n",
        "\n",
        "    user_input = data_preprocessing(user_input)\n",
        "    user_input_sequence = pad_sequences(tokenizer.texts_to_sequences([user_input]))\n",
        "    return user_input_sequence\n",
        "def predict_spam_or_not(user_input, model):\n",
        "\n",
        "    preprocessed_input = preprocess_user_input(user_input)\n",
        "    prediction = model.predict(preprocessed_input)\n",
        "    label = \"spam\" if prediction[0][0] > 0.5 else \"ham\"\n",
        "\n",
        "    return label\n",
        "user_input = \"Alert: Beware of fraudsters sending SMS related to 5G upgrade / SIM block / suspension / Pending KYC or Document verification. DO NOT CALL BACK as they may ask you to download Apps to access your mobile phone and may get confidential information including OTP. DO NOT RESPOND to SMS from unknown numbers, asking for such information other than from our official SMS ID - ViCARE. DO NOT CLICK on unknown links received through social media or private messaging apps. Avoid falling victim to such frauds, block these numbers and report to https://cybercrime.gov.in\"\n",
        "prediction = predict_spam_or_not(user_input, dense_model)\n",
        "print(\"Predicted label:\",prediction)"
      ],
      "metadata": {
        "id": "CKgsAzorAwhW",
        "outputId": "c3c52aac-5b9e-486a-a1bb-924813244f6a",
        "colab": {
          "base_uri": "https://localhost:8080/"
        }
      },
      "execution_count": 26,
      "outputs": [
        {
          "output_type": "stream",
          "name": "stdout",
          "text": [
            "1/1 [==============================] - 0s 44ms/step\n",
            "Predicted label: spam\n"
          ]
        }
      ]
    }
  ]
}